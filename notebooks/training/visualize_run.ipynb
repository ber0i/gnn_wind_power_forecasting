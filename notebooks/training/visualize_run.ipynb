{
 "cells": [
  {
   "cell_type": "markdown",
   "metadata": {},
   "source": [
    "### Preparation"
   ]
  },
  {
   "cell_type": "code",
   "execution_count": 6,
   "metadata": {},
   "outputs": [],
   "source": [
    "import argparse\n",
    "import random\n",
    "\n",
    "import numpy as np\n",
    "import pandas as pd\n",
    "import seaborn as sns\n",
    "import torch\n",
    "from torch_geometric_temporal.signal import temporal_signal_split\n",
    "\n",
    "from src.data.dataloaders import kelmarsh\n",
    "from src.models.architectures import mlp, temporal_gnn"
   ]
  },
  {
   "cell_type": "code",
   "execution_count": 7,
   "metadata": {},
   "outputs": [],
   "source": [
    "fix_seed = 42\n",
    "random.seed(fix_seed)\n",
    "torch.manual_seed(fix_seed)\n",
    "np.random.seed(fix_seed)"
   ]
  },
  {
   "cell_type": "code",
   "execution_count": 8,
   "metadata": {},
   "outputs": [],
   "source": [
    "model_dict = {\n",
    "    \"MLP\": mlp,\n",
    "    \"TemporalGNN\": temporal_gnn,\n",
    "}\n",
    "\n",
    "data_dict = {\n",
    "    \"kelmarsh\": kelmarsh,\n",
    "}"
   ]
  },
  {
   "cell_type": "markdown",
   "metadata": {},
   "source": [
    "### Configuration"
   ]
  },
  {
   "cell_type": "code",
   "execution_count": 9,
   "metadata": {},
   "outputs": [],
   "source": [
    "# configure training session\n",
    "class Args(argparse.Namespace):\n",
    "  model = None\n",
    "  data = 'kelmarsh'\n",
    "  num_timesteps_in = 12\n",
    "  num_timesteps_out = 12\n",
    "  num_static_node_features = None  # will be extracted from data\n",
    "\n",
    "args=Args()"
   ]
  },
  {
   "cell_type": "markdown",
   "metadata": {},
   "source": [
    "### Data Preparation"
   ]
  },
  {
   "cell_type": "code",
   "execution_count": 10,
   "metadata": {},
   "outputs": [],
   "source": [
    "dataloader = data_dict[args.data].DataLoader()\n",
    "data = dataloader.get_dataset(\n",
    "    num_timesteps_in=args.num_timesteps_in, num_timesteps_out=args.num_timesteps_out\n",
    ")\n",
    "args.num_static_node_features = data[0].x.shape[1]\n",
    "train_data, test_data = temporal_signal_split(data, train_ratio=0.8)"
   ]
  },
  {
   "cell_type": "code",
   "execution_count": 11,
   "metadata": {},
   "outputs": [
    {
     "name": "stdout",
     "output_type": "stream",
     "text": [
      "We have 52537 graphs, one for each time window of length 12.\n",
      "Each graph has 6 nodes and 2x12 feature(s) per node,\n",
      "i.e., 2 features per time point,\n",
      "and 30 edges with 1 feature per edge (the edge weight).\n",
      "Each node has 12 labels (i.e., the future values to predict).\n",
      "Our train and test data consists of 42029 and 10508 graphs, respectively.\n"
     ]
    }
   ],
   "source": [
    "print(f'We have {len(data.features)} graphs, one for each time window of length {args.num_timesteps_in}.')\n",
    "print(f'Each graph has {data[0].x.shape[0]} nodes and {data[0].x.shape[1]}x{data[0].x.shape[2]} feature(s) per node,')\n",
    "print(f'i.e., {data[0].x.shape[1]} features per time point,')\n",
    "print(f'and {data.edge_index.shape[1]} edges with 1 feature per edge (the edge weight).')\n",
    "print(f'Each node has {data[0].y.shape[1]} labels (i.e., the future values to predict).')\n",
    "print(f'Our train and test data consists of {len(train_data.features)} and {len(test_data.features)} graphs, respectively.')"
   ]
  },
  {
   "cell_type": "markdown",
   "metadata": {},
   "source": [
    "## 1. MLP"
   ]
  },
  {
   "cell_type": "code",
   "execution_count": 12,
   "metadata": {},
   "outputs": [],
   "source": [
    "args.model = 'MLP'"
   ]
  },
  {
   "cell_type": "markdown",
   "metadata": {},
   "source": [
    "### Training Preparation"
   ]
  },
  {
   "cell_type": "code",
   "execution_count": 13,
   "metadata": {},
   "outputs": [
    {
     "name": "stdout",
     "output_type": "stream",
     "text": [
      "Model(\n",
      "  (mlp): ModuleList(\n",
      "    (0): MLPLayer(\n",
      "      (hidden): Linear(in_features=24, out_features=512, bias=True)\n",
      "      (norm): LayerNorm((512,), eps=1e-05, elementwise_affine=True)\n",
      "      (dropout): Dropout(p=0.05, inplace=False)\n",
      "    )\n",
      "    (1): MLPLayer(\n",
      "      (hidden): Linear(in_features=512, out_features=512, bias=True)\n",
      "      (norm): LayerNorm((512,), eps=1e-05, elementwise_affine=True)\n",
      "      (dropout): Dropout(p=0.05, inplace=False)\n",
      "    )\n",
      "  )\n",
      "  (projection): Linear(in_features=512, out_features=12, bias=True)\n",
      ")\n",
      "\n",
      "!! Note: The MLP only takes the node features as input and no connectivity information !!\n"
     ]
    }
   ],
   "source": [
    "model = model_dict[args.model].Model(args)\n",
    "optimizer = torch.optim.Adam(model.parameters(), lr=0.01)\n",
    "print(model.train())\n",
    "print()\n",
    "print('!! Note: The MLP only takes the node features as input and no connectivity information !!')"
   ]
  },
  {
   "cell_type": "markdown",
   "metadata": {},
   "source": [
    "### Training"
   ]
  },
  {
   "cell_type": "code",
   "execution_count": 14,
   "metadata": {},
   "outputs": [
    {
     "name": "stdout",
     "output_type": "stream",
     "text": [
      "We'll only run 10 epochs and use the latest 1000 training graphs for training, to enable reasonably fast training.\n"
     ]
    }
   ],
   "source": [
    "n_train_data = 1000\n",
    "n_epochs = 10\n",
    "print(f\"We'll only run {n_epochs} epochs and use the latest {n_train_data} training graphs for training, to enable reasonably fast training.\")"
   ]
  },
  {
   "cell_type": "code",
   "execution_count": 15,
   "metadata": {},
   "outputs": [
    {
     "name": "stdout",
     "output_type": "stream",
     "text": [
      "Epoch 0 train MSE: 0.9891\n",
      "Epoch 1 train MSE: 1.8082\n",
      "Epoch 2 train MSE: 0.6916\n",
      "Epoch 3 train MSE: 0.8547\n",
      "Epoch 4 train MSE: 0.5498\n",
      "Epoch 5 train MSE: 0.3974\n",
      "Epoch 6 train MSE: 0.4089\n",
      "Epoch 7 train MSE: 0.3878\n",
      "Epoch 8 train MSE: 0.3539\n",
      "Epoch 9 train MSE: 0.3465\n"
     ]
    }
   ],
   "source": [
    "epoch_train_loss_mlp = [None]*n_epochs\n",
    "for epoch in range(n_epochs):\n",
    "    loss = 0\n",
    "    step = 0\n",
    "    for snapshot in train_data[len(train_data.features)-n_train_data:]:\n",
    "        # Get model predictions\n",
    "        y_hat = model(snapshot.x, snapshot.edge_index, snapshot.edge_attr)\n",
    "        # Mean squared error\n",
    "        loss = loss + torch.mean((y_hat.squeeze() - snapshot.y) ** 2)\n",
    "        step += 1\n",
    "\n",
    "    loss = loss / (step + 1)\n",
    "    epoch_train_loss_mlp[epoch] = loss\n",
    "    loss.backward()\n",
    "    optimizer.step()\n",
    "    optimizer.zero_grad()\n",
    "    print(f\"Epoch {epoch} train MSE: {loss.item():.4f}\")"
   ]
  },
  {
   "cell_type": "markdown",
   "metadata": {},
   "source": [
    "### Testing"
   ]
  },
  {
   "cell_type": "code",
   "execution_count": 16,
   "metadata": {},
   "outputs": [
    {
     "name": "stdout",
     "output_type": "stream",
     "text": [
      "We test on the first 100 test graphs.\n"
     ]
    }
   ],
   "source": [
    "n_test_data = 100\n",
    "print(f\"We test on the first {n_test_data} test graphs.\")"
   ]
  },
  {
   "cell_type": "code",
   "execution_count": 17,
   "metadata": {},
   "outputs": [
    {
     "name": "stdout",
     "output_type": "stream",
     "text": [
      ">>>>Testing>>>>\n",
      "Test MSE: 29.0479\n"
     ]
    }
   ],
   "source": [
    "model.eval()\n",
    "loss = 0\n",
    "step = 0\n",
    "\n",
    "print(\">>>>Testing>>>>\")\n",
    "for snapshot in test_data[:n_test_data]:\n",
    "    # Get predictions\n",
    "    y_hat = model(snapshot.x, snapshot.edge_index, snapshot.edge_attr)\n",
    "    # Mean squared error\n",
    "    loss = loss + torch.mean((y_hat.squeeze() - snapshot.y) ** 2)\n",
    "\n",
    "loss = loss / (step + 1)\n",
    "loss = loss.item()\n",
    "test_mse_mlp = loss\n",
    "print(f\"Test MSE: {loss:.4f}\")"
   ]
  },
  {
   "cell_type": "markdown",
   "metadata": {},
   "source": [
    "## 2. TemporalGNN"
   ]
  },
  {
   "cell_type": "code",
   "execution_count": 18,
   "metadata": {},
   "outputs": [],
   "source": [
    "args.model = \"TemporalGNN\""
   ]
  },
  {
   "cell_type": "code",
   "execution_count": 19,
   "metadata": {},
   "outputs": [
    {
     "name": "stdout",
     "output_type": "stream",
     "text": [
      "Model(\n",
      "  (tgnn): A3TGCN(\n",
      "    (_base_tgcn): TGCN(\n",
      "      (conv_z): GCNConv(2, 12)\n",
      "      (linear_z): Linear(in_features=24, out_features=12, bias=True)\n",
      "      (conv_r): GCNConv(2, 12)\n",
      "      (linear_r): Linear(in_features=24, out_features=12, bias=True)\n",
      "      (conv_h): GCNConv(2, 12)\n",
      "      (linear_h): Linear(in_features=24, out_features=12, bias=True)\n",
      "    )\n",
      "  )\n",
      "  (linear): Linear(in_features=12, out_features=12, bias=True)\n",
      ")\n",
      "\n"
     ]
    }
   ],
   "source": [
    "model = model_dict[args.model].Model(args)\n",
    "optimizer = torch.optim.Adam(model.parameters(), lr=0.01)\n",
    "print(model.train())"
   ]
  },
  {
   "cell_type": "code",
   "execution_count": 20,
   "metadata": {},
   "outputs": [
    {
     "name": "stdout",
     "output_type": "stream",
     "text": [
      "Epoch 0 train MSE: 0.8576\n",
      "Epoch 1 train MSE: 0.8389\n",
      "Epoch 2 train MSE: 0.8222\n",
      "Epoch 3 train MSE: 0.8076\n",
      "Epoch 4 train MSE: 0.7923\n",
      "Epoch 5 train MSE: 0.7759\n",
      "Epoch 6 train MSE: 0.7582\n",
      "Epoch 7 train MSE: 0.7389\n",
      "Epoch 8 train MSE: 0.7179\n",
      "Epoch 9 train MSE: 0.6952\n"
     ]
    }
   ],
   "source": [
    "epoch_train_loss_temporalgnn = [None]*n_epochs\n",
    "for epoch in range(n_epochs):\n",
    "    loss = 0\n",
    "    step = 0\n",
    "    for snapshot in train_data[len(train_data.features)-n_train_data:]:\n",
    "        # Get model predictions\n",
    "        y_hat = model(snapshot.x, snapshot.edge_index, snapshot.edge_attr)\n",
    "        # Mean squared error\n",
    "        loss = loss + torch.mean((y_hat.squeeze() - snapshot.y) ** 2)\n",
    "        step += 1\n",
    "\n",
    "    loss = loss / (step + 1)\n",
    "    epoch_train_loss_temporalgnn[epoch] = loss\n",
    "    loss.backward()\n",
    "    optimizer.step()\n",
    "    optimizer.zero_grad()\n",
    "    print(f\"Epoch {epoch} train MSE: {loss.item():.4f}\")"
   ]
  },
  {
   "cell_type": "code",
   "execution_count": 21,
   "metadata": {},
   "outputs": [
    {
     "name": "stdout",
     "output_type": "stream",
     "text": [
      ">>>>Testing>>>>\n",
      "Test MSE: 89.8145\n"
     ]
    }
   ],
   "source": [
    "model.eval()\n",
    "loss = 0\n",
    "step = 0\n",
    "\n",
    "print(\">>>>Testing>>>>\")\n",
    "for snapshot in test_data[:n_test_data]:\n",
    "    # Get predictions\n",
    "    y_hat = model(snapshot.x, snapshot.edge_index, snapshot.edge_attr)\n",
    "    # Mean squared error\n",
    "    loss = loss + torch.mean((y_hat.squeeze() - snapshot.y) ** 2)\n",
    "\n",
    "loss = loss / (step + 1)\n",
    "loss = loss.item()\n",
    "test_mse_temporalgnn = loss\n",
    "print(f\"Test MSE: {loss:.4f}\")"
   ]
  },
  {
   "cell_type": "markdown",
   "metadata": {},
   "source": [
    "## Comparison"
   ]
  },
  {
   "cell_type": "code",
   "execution_count": 22,
   "metadata": {},
   "outputs": [],
   "source": [
    "df = pd.DataFrame({\n",
    "    'Epochs': np.array([i for i in range(n_epochs)]*2),\n",
    "    'Train MSE': np.array([epoch_train_loss_mlp[i].detach() for i in range(n_epochs)] + \n",
    "                          [epoch_train_loss_temporalgnn[i].detach() for i in range(n_epochs)]),\n",
    "    'Model': ['MLP']*n_epochs + ['TemporalGNN']*n_epochs})"
   ]
  },
  {
   "cell_type": "code",
   "execution_count": 23,
   "metadata": {},
   "outputs": [
    {
     "data": {
      "text/plain": [
       "<Axes: xlabel='Epochs', ylabel='Train MSE'>"
      ]
     },
     "execution_count": 23,
     "metadata": {},
     "output_type": "execute_result"
    },
    {
     "data": {
      "image/png": "[encoded data removed]",
      "text/plain": [
       "<Figure size 640x480 with 1 Axes>"
      ]
     },
     "metadata": {},
     "output_type": "display_data"
    }
   ],
   "source": [
    "sns.lineplot(x='Epochs', y='Train MSE', hue='Model', data=df)"
   ]
  },
  {
   "cell_type": "code",
   "execution_count": 25,
   "metadata": {},
   "outputs": [
    {
     "name": "stdout",
     "output_type": "stream",
     "text": [
      "Test MSE MLP: 29.0479\n",
      "Test MSE TemporalGNN: 89.8145\n"
     ]
    }
   ],
   "source": [
    "print(f'Test MSE MLP: {test_mse_mlp:.4f}')\n",
    "print(f'Test MSE TemporalGNN: {test_mse_temporalgnn:.4f}')"
   ]
  }
 ],
 "metadata": {
  "kernelspec": {
   "display_name": "gnnwpf",
   "language": "python",
   "name": "python3"
  },
  "language_info": {
   "codemirror_mode": {
    "name": "ipython",
    "version": 3
   },
   "file_extension": ".py",
   "mimetype": "text/x-python",
   "name": "python",
   "nbconvert_exporter": "python",
   "pygments_lexer": "ipython3",
   "version": "3.12.2"
  }
 },
 "nbformat": 4,
 "nbformat_minor": 2
}
